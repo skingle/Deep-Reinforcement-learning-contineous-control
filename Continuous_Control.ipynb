{
 "cells": [
  {
   "cell_type": "markdown",
   "metadata": {},
   "source": [
    "# Continuous Control\n",
    "\n",
    "---\n",
    "### 1. Start the Environment\n",
    "\n",
    "We begin by importing the necessary packages."
   ]
  },
  {
   "cell_type": "code",
   "execution_count": 1,
   "metadata": {},
   "outputs": [
    {
     "name": "stdout",
     "output_type": "stream",
     "text": [
      "\u001b[31mtensorflow 1.7.1 has requirement numpy>=1.13.3, but you'll have numpy 1.12.1 which is incompatible.\u001b[0m\r\n",
      "\u001b[31mipython 6.5.0 has requirement prompt-toolkit<2.0.0,>=1.0.15, but you'll have prompt-toolkit 3.0.5 which is incompatible.\u001b[0m\r\n"
     ]
    }
   ],
   "source": [
    "!pip -q install ./python"
   ]
  },
  {
   "cell_type": "code",
   "execution_count": 2,
   "metadata": {},
   "outputs": [],
   "source": [
    "from unityagents import UnityEnvironment\n",
    "import numpy as np\n",
    "import random\n",
    "import torch\n",
    "from collections import deque\n",
    "import matplotlib.pyplot as plt\n",
    "import time\n",
    "%matplotlib inline"
   ]
  },
  {
   "cell_type": "markdown",
   "metadata": {},
   "source": [
    "## Next, we will start the environment!  **_Before running the code cell below_**, change the `file_name` parameter to match the location of the Unity environment that you downloaded.\n",
    "\n",
    "- **Mac**: `\"path/to/Reacher.app\"`\n",
    "- **Windows** (x86): `\"path/to/Reacher_Windows_x86/Reacher.exe\"`\n",
    "- **Windows** (x86_64): `\"path/to/Reacher_Windows_x86_64/Reacher.exe\"`\n",
    "- **Linux** (x86): `\"path/to/Reacher_Linux/Reacher.x86\"`\n",
    "- **Linux** (x86_64): `\"path/to/Reacher_Linux/Reacher.x86_64\"`\n",
    "- **Linux** (x86, headless): `\"path/to/Reacher_Linux_NoVis/Reacher.x86\"`\n",
    "- **Linux** (x86_64, headless): `\"path/to/Reacher_Linux_NoVis/Reacher.x86_64\"`\n",
    "\n",
    "For instance, if you are using a Mac, then you downloaded `Reacher.app`.  If this file is in the same folder as the notebook, then the line below should appear as follows:\n",
    "```\n",
    "env = UnityEnvironment(file_name=\"Reacher.app\")\n",
    "```"
   ]
  },
  {
   "cell_type": "code",
   "execution_count": 3,
   "metadata": {
    "tags": []
   },
   "outputs": [
    {
     "name": "stderr",
     "output_type": "stream",
     "text": [
      "INFO:unityagents:\n",
      "'Academy' started successfully!\n",
      "Unity Academy name: Academy\n",
      "        Number of Brains: 1\n",
      "        Number of External Brains : 1\n",
      "        Lesson number : 0\n",
      "        Reset Parameters :\n",
      "\t\tgoal_speed -> 1.0\n",
      "\t\tgoal_size -> 5.0\n",
      "Unity brain name: ReacherBrain\n",
      "        Number of Visual Observations (per agent): 0\n",
      "        Vector Observation space type: continuous\n",
      "        Vector Observation space size (per agent): 33\n",
      "        Number of stacked Vector Observation: 1\n",
      "        Vector Action space type: continuous\n",
      "        Vector Action space size (per agent): 4\n",
      "        Vector Action descriptions: , , , \n"
     ]
    }
   ],
   "source": [
    "env = UnityEnvironment(file_name='./Reacher_Linux_NoVis/Reacher.x86_64')"
   ]
  },
  {
   "cell_type": "markdown",
   "metadata": {},
   "source": [
    "Environments contain **_brains_** which are responsible for deciding the actions of their associated agents. Here we check for the first brain available, and set it as the default brain we will be controlling from Python."
   ]
  },
  {
   "cell_type": "code",
   "execution_count": 4,
   "metadata": {},
   "outputs": [],
   "source": [
    "# get the default brain\n",
    "brain_name = env.brain_names[0]\n",
    "brain = env.brains[brain_name]"
   ]
  },
  {
   "cell_type": "markdown",
   "metadata": {},
   "source": [
    "### 2. Examine the State and Action Spaces\n",
    "\n",
    "In this environment, a double-jointed arm can move to target locations. A reward of `+0.1` is provided for each step that the agent's hand is in the goal location. Thus, the goal of your agent is to maintain its position at the target location for as many time steps as possible.\n",
    "\n",
    "The observation space consists of `33` variables corresponding to position, rotation, velocity, and angular velocities of the arm.  Each action is a vector with four numbers, corresponding to torque applicable to two joints.  Every entry in the action vector must be a number between `-1` and `1`.\n",
    "\n",
    "Run the code cell below to print some information about the environment."
   ]
  },
  {
   "cell_type": "code",
   "execution_count": 5,
   "metadata": {
    "tags": []
   },
   "outputs": [
    {
     "name": "stdout",
     "output_type": "stream",
     "text": [
      "Number of agents: 20\n",
      "Size of each action: 4\n",
      "There are 20 agents. Each observes a state with length: 33\n",
      "The state for the first agent looks like: [  0.00000000e+00  -4.00000000e+00   0.00000000e+00   1.00000000e+00\n",
      "  -0.00000000e+00  -0.00000000e+00  -4.37113883e-08   0.00000000e+00\n",
      "   0.00000000e+00   0.00000000e+00   0.00000000e+00   0.00000000e+00\n",
      "   0.00000000e+00   0.00000000e+00  -1.00000000e+01   0.00000000e+00\n",
      "   1.00000000e+00  -0.00000000e+00  -0.00000000e+00  -4.37113883e-08\n",
      "   0.00000000e+00   0.00000000e+00   0.00000000e+00   0.00000000e+00\n",
      "   0.00000000e+00   0.00000000e+00   5.75471878e+00  -1.00000000e+00\n",
      "   5.55726624e+00   0.00000000e+00   1.00000000e+00   0.00000000e+00\n",
      "  -1.68164849e-01]\n"
     ]
    }
   ],
   "source": [
    "# reset the environment\n",
    "env_info = env.reset(train_mode=True)[brain_name]\n",
    "\n",
    "# number of agents\n",
    "num_agents = len(env_info.agents)\n",
    "print('Number of agents:', num_agents)\n",
    "\n",
    "# size of each action\n",
    "action_size = brain.vector_action_space_size\n",
    "print('Size of each action:', action_size)\n",
    "\n",
    "# examine the state space \n",
    "states = env_info.vector_observations\n",
    "state_size = states.shape[1]\n",
    "print('There are {} agents. Each observes a state with length: {}'.format(states.shape[0], state_size))\n",
    "print('The state for the first agent looks like:', states[0])"
   ]
  },
  {
   "cell_type": "markdown",
   "metadata": {},
   "source": [
    "### 3. Trainning \n",
    "\n"
   ]
  },
  {
   "cell_type": "code",
   "execution_count": 6,
   "metadata": {},
   "outputs": [],
   "source": [
    "def ddpg(n_episodes=2000, max_t=700,reset_time=100):\n",
    "    start_time = time.time()\n",
    "    scores_deque = deque(maxlen=100)\n",
    "    scores_mean_agent = []\n",
    "    scores_mean = []\n",
    "    max_score = -np.Inf\n",
    "    for i_episode in range(1, n_episodes+1):\n",
    "        env_info = env.reset(train_mode=True)[brain_name] \n",
    "        states = env_info.vector_observations\n",
    "        agent.reset()\n",
    "        scores = np.zeros(num_agents)\n",
    "        for t in range(max_t):\n",
    "            if t % reset_time == 0:\n",
    "                agent.reset()\n",
    "            actions = agent.act(states,add_noise=True)\n",
    "            #next_state, reward, done, _ = env.step(action)\n",
    "            env_info = env.step(actions)[brain_name]\n",
    "            next_states = env_info.vector_observations  # get the next state\n",
    "            rewards = env_info.rewards  # get the reward\n",
    "            dones = env_info.local_done\n",
    "\n",
    "            agent.step(states, actions, rewards, next_states, dones, t)\n",
    "          \n",
    "            \n",
    "            states = next_states\n",
    "            scores += rewards\n",
    "            if np.any(dones):\n",
    "                break       \n",
    "        score = np.mean(scores)\n",
    "        scores_deque.append(score)\n",
    "        scores_mean_agent.append(score)\n",
    "        scores_mean.append(np.mean(scores_deque))\n",
    "        \n",
    "       \n",
    "        \n",
    "        if i_episode % 10 == 0 :\n",
    "            duration = (int)(time.time() - start_time)  \n",
    "            print('\\rEpisode {}\\tAverage Score: {:.2f}\\tScore: {:.2f}\\tMin: {:.2f}\\tMax: {:.2f}\\tTime: {:02}:{:02}:{:02}'\\\n",
    "                  .format(i_episode, np.mean(scores_deque),score,  np.min(scores), np.max(scores),\\\n",
    "                          duration//3600, duration%3600//60, duration%60))\n",
    "        else:\n",
    "             print('\\rEpisode {}\\tAverage Score: {:.2f}\\tScore: {:.2f}\\tMin: {:.2f} \\tMax: {:.2f}\\tepsilon {:.2f}'\\\n",
    "              .format(i_episode, np.mean(scores_deque), score, np.min(scores), np.max(scores),agent.epsilon), end=\"\")\n",
    "                \n",
    "        if np.mean(scores_deque) >= 30.0:\n",
    "            print('\\nEnvironment solved in {:d} episodes!\\tAverage Score: {:.2f}'.format(i_episode - print_every, np.mean(scores_deque)))\n",
    "            torch.save(agent.actor_local.state_dict(), save_or_load_path)\n",
    "            torch.save(agent.critic_local.state_dict(), save_or_load_path)\n",
    "            break  \n",
    "    return scores_mean_agent,scores_mean\n",
    "\n"
   ]
  },
  {
   "cell_type": "code",
   "execution_count": null,
   "metadata": {
    "scrolled": false,
    "tags": []
   },
   "outputs": [
    {
     "name": "stdout",
     "output_type": "stream",
     "text": [
      "cpu\n",
      "Episode 10\tAverage Score: 0.41\tScore: 0.47\tMin: 0.09\tMax: 1.50\tTime: 00:03:24\n",
      "Episode 20\tAverage Score: 0.72\tScore: 1.50\tMin: 0.31\tMax: 2.63\tTime: 00:06:55\n",
      "Episode 30\tAverage Score: 1.28\tScore: 5.24\tMin: 2.32\tMax: 12.45\tTime: 00:10:32\n",
      "Episode 40\tAverage Score: 3.08\tScore: 11.60\tMin: 4.11\tMax: 16.62\tTime: 00:14:10\n",
      "Episode 50\tAverage Score: 5.98\tScore: 24.47\tMin: 20.05\tMax: 27.21\tTime: 00:17:44\n",
      "Episode 60\tAverage Score: 9.03\tScore: 23.53\tMin: 18.13\tMax: 26.85\tTime: 00:21:17\n",
      "Episode 70\tAverage Score: 11.12\tScore: 21.62\tMin: 10.42\tMax: 27.20\tTime: 00:24:51\n",
      "Episode 80\tAverage Score: 12.52\tScore: 20.90\tMin: 17.20\tMax: 25.63\tTime: 00:28:30\n",
      "Episode 90\tAverage Score: 13.67\tScore: 22.50\tMin: 11.97\tMax: 26.86\tTime: 00:32:23\n",
      "Episode 100\tAverage Score: 14.64\tScore: 20.41\tMin: 14.44\tMax: 24.18\tTime: 00:36:19\n",
      "Episode 110\tAverage Score: 16.95\tScore: 24.49\tMin: 18.95\tMax: 27.25\tTime: 00:40:21\n",
      "Episode 120\tAverage Score: 19.08\tScore: 21.92\tMin: 19.23\tMax: 27.25\tTime: 00:44:28\n",
      "Episode 130\tAverage Score: 21.09\tScore: 24.70\tMin: 17.39\tMax: 27.53\tTime: 00:48:35\n",
      "Episode 140\tAverage Score: 22.61\tScore: 22.55\tMin: 16.71\tMax: 27.14\tTime: 00:52:46\n",
      "Episode 150\tAverage Score: 23.17\tScore: 19.68\tMin: 7.83\tMax: 26.37\tTime: 00:56:56\n",
      "Episode 160\tAverage Score: 22.98\tScore: 17.50\tMin: 8.71\tMax: 27.45\tTime: 01:01:08\n",
      "Episode 170\tAverage Score: 23.00\tScore: 22.53\tMin: 18.07\tMax: 27.21\tTime: 01:05:22\n",
      "Episode 180\tAverage Score: 22.89\tScore: 21.13\tMin: 7.55\tMax: 26.62\tTime: 01:09:32\n",
      "Episode 190\tAverage Score: 22.75\tScore: 24.52\tMin: 11.21\tMax: 27.37\tTime: 01:13:39\n",
      "Episode 200\tAverage Score: 22.62\tScore: 18.93\tMin: 5.69\tMax: 23.60\tTime: 01:17:45\n",
      "Episode 210\tAverage Score: 22.54\tScore: 23.16\tMin: 15.25\tMax: 27.29\tTime: 01:21:50\n",
      "Episode 220\tAverage Score: 22.52\tScore: 24.28\tMin: 19.69\tMax: 27.29\tTime: 01:25:56\n",
      "Episode 230\tAverage Score: 22.53\tScore: 23.02\tMin: 17.56\tMax: 27.25\tTime: 01:30:03\n",
      "Episode 240\tAverage Score: 21.67\tScore: 13.15\tMin: 4.29\tMax: 20.76\tTime: 01:34:08\n",
      "Episode 250\tAverage Score: 21.46\tScore: 22.23\tMin: 17.76\tMax: 27.39\tTime: 01:38:13\n",
      "Episode 260\tAverage Score: 21.67\tScore: 26.37\tMin: 24.50\tMax: 27.48\tTime: 01:42:23\n",
      "Episode 270\tAverage Score: 21.77\tScore: 26.36\tMin: 24.45\tMax: 27.11\tTime: 01:46:35\n",
      "Episode 280\tAverage Score: 22.13\tScore: 23.95\tMin: 20.47\tMax: 26.81\tTime: 01:51:01\n",
      "Episode 290\tAverage Score: 22.38\tScore: 23.08\tMin: 12.10\tMax: 25.98\tTime: 01:55:19\n",
      "Episode 300\tAverage Score: 22.60\tScore: 24.38\tMin: 21.67\tMax: 26.97\tTime: 01:59:37\n",
      "Episode 310\tAverage Score: 22.84\tScore: 23.35\tMin: 15.64\tMax: 27.23\tTime: 02:03:53\n",
      "Episode 320\tAverage Score: 23.16\tScore: 25.68\tMin: 22.29\tMax: 27.47\tTime: 02:08:09\n",
      "Episode 330\tAverage Score: 23.36\tScore: 24.33\tMin: 18.27\tMax: 27.10\tTime: 02:12:26\n",
      "Episode 340\tAverage Score: 23.99\tScore: 18.99\tMin: 5.95\tMax: 23.75\tTime: 02:17:02\n",
      "Episode 350\tAverage Score: 23.95\tScore: 20.26\tMin: 13.27\tMax: 24.77\tTime: 02:21:26\n",
      "Episode 360\tAverage Score: 24.06\tScore: 25.09\tMin: 18.56\tMax: 27.53\tTime: 02:25:49\n",
      "Episode 370\tAverage Score: 24.01\tScore: 24.66\tMin: 19.29\tMax: 26.91\tTime: 02:30:10\n",
      "Episode 380\tAverage Score: 23.99\tScore: 24.82\tMin: 20.70\tMax: 27.14\tTime: 02:34:26\n",
      "Episode 390\tAverage Score: 24.16\tScore: 27.17\tMin: 26.71\tMax: 27.65\tTime: 02:38:43\n",
      "Episode 400\tAverage Score: 24.20\tScore: 24.67\tMin: 20.47\tMax: 27.36\tTime: 02:43:01\n",
      "Episode 410\tAverage Score: 24.14\tScore: 23.65\tMin: 18.56\tMax: 26.99\tTime: 02:47:19\n",
      "Episode 420\tAverage Score: 24.02\tScore: 21.92\tMin: 12.99\tMax: 26.70\tTime: 02:51:34\n",
      "Episode 430\tAverage Score: 24.06\tScore: 24.82\tMin: 19.61\tMax: 27.25\tTime: 02:55:54\n",
      "Episode 440\tAverage Score: 24.43\tScore: 25.80\tMin: 22.09\tMax: 27.33\tTime: 03:00:11\n",
      "Episode 450\tAverage Score: 24.93\tScore: 24.93\tMin: 20.25\tMax: 27.48\tTime: 03:04:31\n",
      "Episode 460\tAverage Score: 24.73\tScore: 23.83\tMin: 17.35\tMax: 27.14\tTime: 03:08:51\n",
      "Episode 470\tAverage Score: 24.48\tScore: 22.56\tMin: 18.96\tMax: 25.25\tTime: 03:13:10\n",
      "Episode 480\tAverage Score: 24.50\tScore: 25.82\tMin: 21.76\tMax: 27.49\tTime: 03:17:30\n",
      "Episode 490\tAverage Score: 24.34\tScore: 22.89\tMin: 12.94\tMax: 26.92\tTime: 03:21:48\n",
      "Episode 500\tAverage Score: 24.42\tScore: 22.22\tMin: 18.34\tMax: 25.11\tTime: 03:26:05\n",
      "Episode 510\tAverage Score: 24.12\tScore: 26.11\tMin: 24.09\tMax: 27.55\tTime: 03:30:23\n",
      "Episode 520\tAverage Score: 24.19\tScore: 25.32\tMin: 22.13\tMax: 27.39\tTime: 03:34:39\n",
      "Episode 530\tAverage Score: 24.28\tScore: 26.44\tMin: 20.01\tMax: 27.56\tTime: 03:38:57\n",
      "Episode 540\tAverage Score: 24.32\tScore: 26.38\tMin: 23.90\tMax: 27.57\tTime: 03:43:16\n",
      "Episode 550\tAverage Score: 24.04\tScore: 26.25\tMin: 21.88\tMax: 27.66\tTime: 03:47:35\n",
      "Episode 560\tAverage Score: 24.13\tScore: 24.66\tMin: 20.39\tMax: 26.95\tTime: 03:51:53\n",
      "Episode 570\tAverage Score: 24.47\tScore: 25.79\tMin: 22.41\tMax: 27.41\tTime: 03:56:12\n",
      "Episode 580\tAverage Score: 24.37\tScore: 25.11\tMin: 22.28\tMax: 27.33\tTime: 04:00:29\n",
      "Episode 590\tAverage Score: 24.43\tScore: 24.66\tMin: 20.44\tMax: 27.46\tTime: 04:04:47\n",
      "Episode 600\tAverage Score: 24.37\tScore: 24.74\tMin: 20.91\tMax: 27.68\tTime: 04:09:05\n",
      "Episode 610\tAverage Score: 24.51\tScore: 25.09\tMin: 15.26\tMax: 27.42\tTime: 04:13:21\n",
      "Episode 620\tAverage Score: 24.35\tScore: 21.30\tMin: 12.63\tMax: 26.48\tTime: 04:17:39\n",
      "Episode 630\tAverage Score: 23.94\tScore: 20.60\tMin: 16.43\tMax: 24.99\tTime: 04:21:57\n",
      "Episode 640\tAverage Score: 23.75\tScore: 21.92\tMin: 11.51\tMax: 26.89\tTime: 04:26:14\n",
      "Episode 650\tAverage Score: 23.97\tScore: 24.07\tMin: 13.48\tMax: 27.05\tTime: 04:30:30\n",
      "Episode 660\tAverage Score: 23.95\tScore: 25.95\tMin: 23.77\tMax: 27.56\tTime: 04:34:46\n",
      "Episode 670\tAverage Score: 23.89\tScore: 26.41\tMin: 23.94\tMax: 27.38\tTime: 04:39:05\n",
      "Episode 680\tAverage Score: 23.96\tScore: 22.24\tMin: 18.50\tMax: 24.51\tTime: 04:43:19\n",
      "Episode 690\tAverage Score: 23.93\tScore: 26.63\tMin: 21.91\tMax: 27.49\tTime: 04:47:38\n",
      "Episode 700\tAverage Score: 23.98\tScore: 25.54\tMin: 19.34\tMax: 27.56\tTime: 04:51:55\n",
      "Episode 710\tAverage Score: 24.35\tScore: 26.47\tMin: 23.85\tMax: 27.58\tTime: 04:56:14\n",
      "Episode 720\tAverage Score: 24.46\tScore: 21.96\tMin: 16.67\tMax: 26.90\tTime: 05:00:31\n",
      "Episode 730\tAverage Score: 24.68\tScore: 23.60\tMin: 18.32\tMax: 27.53\tTime: 05:04:47\n",
      "Episode 740\tAverage Score: 24.90\tScore: 23.22\tMin: 20.41\tMax: 24.44\tTime: 05:09:04\n",
      "Episode 750\tAverage Score: 24.88\tScore: 24.81\tMin: 16.81\tMax: 27.30\tTime: 05:13:20\n",
      "Episode 760\tAverage Score: 24.89\tScore: 26.77\tMin: 25.09\tMax: 27.60\tTime: 05:17:42\n",
      "Episode 770\tAverage Score: 24.93\tScore: 26.14\tMin: 22.98\tMax: 27.48\tTime: 05:22:19\n",
      "Episode 780\tAverage Score: 25.07\tScore: 24.77\tMin: 22.53\tMax: 27.20\tTime: 05:26:46\n",
      "Episode 790\tAverage Score: 25.06\tScore: 26.12\tMin: 22.20\tMax: 27.47\tTime: 05:31:03\n",
      "Episode 800\tAverage Score: 25.14\tScore: 26.13\tMin: 23.25\tMax: 27.55\tTime: 05:35:21\n",
      "Episode 810\tAverage Score: 24.93\tScore: 25.29\tMin: 23.11\tMax: 26.93\tTime: 05:39:38\n",
      "Episode 820\tAverage Score: 24.92\tScore: 24.00\tMin: 21.02\tMax: 26.88\tTime: 05:43:57\n",
      "Episode 826\tAverage Score: 24.96\tScore: 23.01\tMin: 16.52 \tMax: 26.27\tepsilon 0.00"
     ]
    }
   ],
   "source": [
    "\n",
    "from workspace_utils import active_session \n",
    "from ddpg_agent import Agent\n",
    "\n",
    "\n",
    "env_info = env.reset(train_mode=True)[brain_name]     # reset the environment    \n",
    "states = env_info.vector_observations                  # get the current state (for each agent)\n",
    "scores = np.zeros(num_agents)                          # initialize the score (for each agent)\n",
    "action_size = brain.vector_action_space_size           # get the action size\n",
    "state_size = states.shape[1]                           # get the state size\n",
    "random_seed = 2\n",
    "agent = Agent(state_size,action_size,random_seed)      # init the agent\n",
    "\n",
    "with active_session():\n",
    "    scores,scores_mean= ddpg()\n",
    "\n",
    "    fig = plt.figure()\n",
    "    ax = fig.add_subplot(111)\n",
    "    plt.plot(np.arange(1, len(scores)+1), scores,label=\"score\")\n",
    "    plt.plot(np.arange(1, len(scores_mean)+1), scores_mean,label=\"avg score\")\n",
    "    plt.ylabel('Score')\n",
    "    plt.xlabel('Episode #')\n",
    "    plt.show()"
   ]
  },
  {
   "cell_type": "markdown",
   "metadata": {},
   "source": [
    "When finished, you can close the environment."
   ]
  },
  {
   "cell_type": "code",
   "execution_count": null,
   "metadata": {},
   "outputs": [],
   "source": [
    "env.close()"
   ]
  },
  {
   "cell_type": "markdown",
   "metadata": {},
   "source": [
    "### 4. It's Your Turn!\n",
    "\n",
    "Now it's your turn to train your own agent to solve the environment!  When training the environment, set `train_mode=True`, so that the line for resetting the environment looks like the following:\n",
    "```python\n",
    "env_info = env.reset(train_mode=True)[brain_name]\n",
    "```"
   ]
  },
  {
   "cell_type": "code",
   "execution_count": null,
   "metadata": {},
   "outputs": [],
   "source": []
  }
 ],
 "metadata": {
  "kernelspec": {
   "display_name": "Python 3",
   "language": "python",
   "name": "python3"
  },
  "language_info": {
   "codemirror_mode": {
    "name": "ipython",
    "version": 3
   },
   "file_extension": ".py",
   "mimetype": "text/x-python",
   "name": "python",
   "nbconvert_exporter": "python",
   "pygments_lexer": "ipython3",
   "version": "3.6.3"
  }
 },
 "nbformat": 4,
 "nbformat_minor": 2
}

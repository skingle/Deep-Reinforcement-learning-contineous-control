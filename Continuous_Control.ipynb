{
 "cells": [
  {
   "cell_type": "markdown",
   "metadata": {},
   "source": [
    "# Continuous Control\n",
    "\n",
    "---\n",
    "### 1. Start the Environment\n",
    "\n",
    "We begin by importing the necessary packages."
   ]
  },
  {
   "cell_type": "code",
   "execution_count": 3,
   "metadata": {},
   "outputs": [],
   "source": [
    "!pip -q install ./python"
   ]
  },
  {
   "cell_type": "code",
   "execution_count": 4,
   "metadata": {},
   "outputs": [],
   "source": [
    "from unityagents import UnityEnvironment\n",
    "import numpy as np\n",
    "import random\n",
    "import torch\n",
    "from collections import deque\n",
    "import matplotlib.pyplot as plt\n",
    "import time\n",
    "%matplotlib inline"
   ]
  },
  {
   "cell_type": "markdown",
   "metadata": {},
   "source": [
    "## Next, we will start the environment!  **_Before running the code cell below_**, change the `file_name` parameter to match the location of the Unity environment that you downloaded.\n",
    "\n",
    "- **Mac**: `\"path/to/Reacher.app\"`\n",
    "- **Windows** (x86): `\"path/to/Reacher_Windows_x86/Reacher.exe\"`\n",
    "- **Windows** (x86_64): `\"path/to/Reacher_Windows_x86_64/Reacher.exe\"`\n",
    "- **Linux** (x86): `\"path/to/Reacher_Linux/Reacher.x86\"`\n",
    "- **Linux** (x86_64): `\"path/to/Reacher_Linux/Reacher.x86_64\"`\n",
    "- **Linux** (x86, headless): `\"path/to/Reacher_Linux_NoVis/Reacher.x86\"`\n",
    "- **Linux** (x86_64, headless): `\"path/to/Reacher_Linux_NoVis/Reacher.x86_64\"`\n",
    "\n",
    "For instance, if you are using a Mac, then you downloaded `Reacher.app`.  If this file is in the same folder as the notebook, then the line below should appear as follows:\n",
    "```\n",
    "env = UnityEnvironment(file_name=\"Reacher.app\")\n",
    "```"
   ]
  },
  {
   "cell_type": "code",
   "execution_count": 5,
   "metadata": {
    "tags": []
   },
   "outputs": [
    {
     "name": "stderr",
     "output_type": "stream",
     "text": [
      "INFO:unityagents:\n",
      "'Academy' started successfully!\n",
      "Unity Academy name: Academy\n",
      "        Number of Brains: 1\n",
      "        Number of External Brains : 1\n",
      "        Lesson number : 0\n",
      "        Reset Parameters :\n",
      "\t\tgoal_speed -> 1.0\n",
      "\t\tgoal_size -> 5.0\n",
      "Unity brain name: ReacherBrain\n",
      "        Number of Visual Observations (per agent): 0\n",
      "        Vector Observation space type: continuous\n",
      "        Vector Observation space size (per agent): 33\n",
      "        Number of stacked Vector Observation: 1\n",
      "        Vector Action space type: continuous\n",
      "        Vector Action space size (per agent): 4\n",
      "        Vector Action descriptions: , , , \n"
     ]
    }
   ],
   "source": [
    "env = UnityEnvironment(file_name='./Reacher_Linux_NoVis/Reacher.x86_64')"
   ]
  },
  {
   "cell_type": "markdown",
   "metadata": {},
   "source": [
    "Environments contain **_brains_** which are responsible for deciding the actions of their associated agents. Here we check for the first brain available, and set it as the default brain we will be controlling from Python."
   ]
  },
  {
   "cell_type": "code",
   "execution_count": 6,
   "metadata": {},
   "outputs": [],
   "source": [
    "# get the default brain\n",
    "brain_name = env.brain_names[0]\n",
    "brain = env.brains[brain_name]"
   ]
  },
  {
   "cell_type": "markdown",
   "metadata": {},
   "source": [
    "### 2. Examine the State and Action Spaces\n",
    "\n",
    "In this environment, a double-jointed arm can move to target locations. A reward of `+0.1` is provided for each step that the agent's hand is in the goal location. Thus, the goal of your agent is to maintain its position at the target location for as many time steps as possible.\n",
    "\n",
    "The observation space consists of `33` variables corresponding to position, rotation, velocity, and angular velocities of the arm.  Each action is a vector with four numbers, corresponding to torque applicable to two joints.  Every entry in the action vector must be a number between `-1` and `1`.\n",
    "\n",
    "Run the code cell below to print some information about the environment."
   ]
  },
  {
   "cell_type": "code",
   "execution_count": 7,
   "metadata": {
    "tags": []
   },
   "outputs": [
    {
     "name": "stdout",
     "output_type": "stream",
     "text": [
      "Number of agents: 20\n",
      "Size of each action: 4\n",
      "There are 20 agents. Each observes a state with length: 33\n",
      "The state for the first agent looks like: [  0.00000000e+00  -4.00000000e+00   0.00000000e+00   1.00000000e+00\n",
      "  -0.00000000e+00  -0.00000000e+00  -4.37113883e-08   0.00000000e+00\n",
      "   0.00000000e+00   0.00000000e+00   0.00000000e+00   0.00000000e+00\n",
      "   0.00000000e+00   0.00000000e+00  -1.00000000e+01   0.00000000e+00\n",
      "   1.00000000e+00  -0.00000000e+00  -0.00000000e+00  -4.37113883e-08\n",
      "   0.00000000e+00   0.00000000e+00   0.00000000e+00   0.00000000e+00\n",
      "   0.00000000e+00   0.00000000e+00   5.75471878e+00  -1.00000000e+00\n",
      "   5.55726624e+00   0.00000000e+00   1.00000000e+00   0.00000000e+00\n",
      "  -1.68164849e-01]\n"
     ]
    }
   ],
   "source": [
    "# reset the environment\n",
    "env_info = env.reset(train_mode=True)[brain_name]\n",
    "\n",
    "# number of agents\n",
    "num_agents = len(env_info.agents)\n",
    "print('Number of agents:', num_agents)\n",
    "\n",
    "# size of each action\n",
    "action_size = brain.vector_action_space_size\n",
    "print('Size of each action:', action_size)\n",
    "\n",
    "# examine the state space \n",
    "states = env_info.vector_observations\n",
    "state_size = states.shape[1]\n",
    "print('There are {} agents. Each observes a state with length: {}'.format(states.shape[0], state_size))\n",
    "print('The state for the first agent looks like:', states[0])"
   ]
  },
  {
   "cell_type": "markdown",
   "metadata": {},
   "source": [
    "### 3. Trainning \n",
    "\n"
   ]
  },
  {
   "cell_type": "code",
   "execution_count": 8,
   "metadata": {},
   "outputs": [],
   "source": [
    "def ddpg(n_episodes=2000, max_t=700,reset_time=100):\n",
    "    start_time = time.time()\n",
    "    scores_deque = deque(maxlen=100)\n",
    "    scores_mean_agent = []\n",
    "    scores_mean = []\n",
    "    max_score = -np.Inf\n",
    "    for i_episode in range(1, n_episodes+1):\n",
    "        env_info = env.reset(train_mode=True)[brain_name] \n",
    "        states = env_info.vector_observations\n",
    "        agent.reset()\n",
    "        scores = np.zeros(num_agents)\n",
    "        for t in range(max_t):\n",
    "            if t % reset_time == 0:\n",
    "                agent.reset()\n",
    "            actions = agent.act(states,add_noise=True)\n",
    "            #next_state, reward, done, _ = env.step(action)\n",
    "            env_info = env.step(actions)[brain_name]\n",
    "            next_states = env_info.vector_observations  # get the next state\n",
    "            rewards = env_info.rewards  # get the reward\n",
    "            dones = env_info.local_done\n",
    "\n",
    "            agent.step(states, actions, rewards, next_states, dones, t)\n",
    "          \n",
    "            \n",
    "            states = next_states\n",
    "            scores += rewards\n",
    "            if np.any(dones):\n",
    "                break       \n",
    "        score = np.mean(scores)\n",
    "        scores_deque.append(score)\n",
    "        scores_mean_agent.append(score)\n",
    "        scores_mean.append(np.mean(scores_deque))\n",
    "        \n",
    "       \n",
    "        \n",
    "        if i_episode % 10 == 0 :\n",
    "            duration = (int)(time.time() - start_time)  \n",
    "            print('\\rEpisode {}\\tAverage Score: {:.2f}\\tScore: {:.2f}\\tMin: {:.2f}\\tMax: {:.2f}\\tepsilon {:.4f}\\tTime: {:02}:{:02}:{:02}'\\\n",
    "                  .format(i_episode, np.mean(scores_deque),score,  np.min(scores), np.max(scores),agent.epsilon,\\\n",
    "                          duration//3600, duration%3600//60, duration%60))\n",
    "        else:\n",
    "             print('\\rEpisode {}\\tAverage Score: {:.2f}\\tScore: {:.2f}\\tMin: {:.2f} \\tMax: {:.2f}\\tepsilon {:.2f}'\\\n",
    "              .format(i_episode, np.mean(scores_deque), score, np.min(scores), np.max(scores),agent.epsilon), end=\"\")\n",
    "                \n",
    "        if np.mean(scores_deque) >= 30.0:\n",
    "            print('\\nEnvironment solved in {:d} episodes!\\tAverage Score: {:.2f}'.format(i_episode - print_every, np.mean(scores_deque)))\n",
    "            torch.save(agent.actor_local.state_dict(), save_or_load_path)\n",
    "            torch.save(agent.critic_local.state_dict(), save_or_load_path)\n",
    "            break  \n",
    "    return scores_mean_agent,scores_mean\n",
    "\n"
   ]
  },
  {
   "cell_type": "code",
   "execution_count": null,
   "metadata": {
    "scrolled": false,
    "tags": []
   },
   "outputs": [
    {
     "name": "stdout",
     "output_type": "stream",
     "text": [
      "cpu\n",
      "Episode 10\tAverage Score: 0.26\tScore: 0.22\tMin: 0.00\tMax: 0.53\tepsilon 0.9300\tTime: 00:03:27\n",
      "Episode 20\tAverage Score: 0.48\tScore: 0.87\tMin: 0.00\tMax: 2.55\tepsilon 0.8600\tTime: 00:07:05\n",
      "Episode 30\tAverage Score: 0.97\tScore: 2.78\tMin: 0.58\tMax: 5.27\tepsilon 0.7900\tTime: 00:10:47\n",
      "Episode 40\tAverage Score: 1.69\tScore: 5.29\tMin: 2.63\tMax: 7.71\tepsilon 0.7200\tTime: 00:14:28\n",
      "Episode 50\tAverage Score: 2.63\tScore: 6.28\tMin: 2.07\tMax: 15.36\tepsilon 0.6500\tTime: 00:18:07\n",
      "Episode 60\tAverage Score: 3.67\tScore: 10.29\tMin: 5.81\tMax: 15.91\tepsilon 0.5800\tTime: 00:21:44\n",
      "Episode 70\tAverage Score: 5.00\tScore: 16.52\tMin: 9.32\tMax: 22.82\tepsilon 0.5100\tTime: 00:25:23\n",
      "Episode 80\tAverage Score: 6.35\tScore: 17.93\tMin: 7.67\tMax: 23.55\tepsilon 0.4400\tTime: 00:29:04\n",
      "Episode 90\tAverage Score: 7.55\tScore: 14.52\tMin: 3.87\tMax: 22.23\tepsilon 0.3700\tTime: 00:33:01\n",
      "Episode 100\tAverage Score: 8.61\tScore: 19.24\tMin: 15.38\tMax: 24.97\tepsilon 0.3000\tTime: 00:37:02\n",
      "Episode 110\tAverage Score: 10.70\tScore: 22.34\tMin: 16.48\tMax: 27.45\tepsilon 0.2300\tTime: 00:41:04\n",
      "Episode 120\tAverage Score: 12.69\tScore: 20.20\tMin: 12.55\tMax: 23.36\tepsilon 0.1600\tTime: 00:45:05\n",
      "Episode 130\tAverage Score: 14.60\tScore: 21.11\tMin: 17.59\tMax: 25.30\tepsilon 0.0900\tTime: 00:49:06\n",
      "Episode 140\tAverage Score: 16.23\tScore: 20.20\tMin: 7.48\tMax: 25.91\tepsilon 0.0200\tTime: 00:53:08\n",
      "Episode 150\tAverage Score: 17.76\tScore: 23.03\tMin: 7.11\tMax: 27.54\tepsilon 0.0010\tTime: 00:57:09\n",
      "Episode 160\tAverage Score: 19.14\tScore: 24.39\tMin: 17.99\tMax: 27.66\tepsilon 0.0010\tTime: 01:01:15\n",
      "Episode 170\tAverage Score: 20.34\tScore: 25.49\tMin: 17.07\tMax: 27.66\tepsilon 0.0010\tTime: 01:05:19\n",
      "Episode 180\tAverage Score: 21.30\tScore: 26.88\tMin: 24.89\tMax: 27.64\tepsilon 0.0010\tTime: 01:09:26\n",
      "Episode 190\tAverage Score: 22.18\tScore: 25.40\tMin: 20.81\tMax: 27.17\tepsilon 0.0010\tTime: 01:13:32\n",
      "Episode 200\tAverage Score: 23.03\tScore: 26.57\tMin: 24.63\tMax: 27.61\tepsilon 0.0010\tTime: 01:17:39\n",
      "Episode 210\tAverage Score: 23.43\tScore: 23.66\tMin: 15.77\tMax: 27.51\tepsilon 0.0010\tTime: 01:21:42\n",
      "Episode 220\tAverage Score: 23.86\tScore: 24.38\tMin: 17.93\tMax: 27.17\tepsilon 0.0010\tTime: 01:25:51\n",
      "Episode 230\tAverage Score: 24.18\tScore: 24.95\tMin: 18.42\tMax: 27.47\tepsilon 0.0010\tTime: 01:30:00\n",
      "Episode 240\tAverage Score: 24.58\tScore: 25.91\tMin: 23.36\tMax: 27.41\tepsilon 0.0010\tTime: 01:34:12\n",
      "Episode 250\tAverage Score: 24.94\tScore: 25.96\tMin: 23.72\tMax: 27.47\tepsilon 0.0010\tTime: 01:38:21\n",
      "Episode 260\tAverage Score: 25.18\tScore: 25.92\tMin: 22.15\tMax: 27.55\tepsilon 0.0010\tTime: 01:42:29\n",
      "Episode 270\tAverage Score: 25.26\tScore: 24.37\tMin: 17.31\tMax: 27.49\tepsilon 0.0010\tTime: 01:46:37\n",
      "Episode 273\tAverage Score: 25.16\tScore: 23.26\tMin: 18.82 \tMax: 25.04\tepsilon 0.00"
     ]
    }
   ],
   "source": [
    "\n",
    "from workspace_utils import active_session \n",
    "from ddpg_agent import Agent\n",
    "\n",
    "\n",
    "env_info = env.reset(train_mode=True)[brain_name]     # reset the environment    \n",
    "states = env_info.vector_observations                  # get the current state (for each agent)\n",
    "scores = np.zeros(num_agents)                          # initialize the score (for each agent)\n",
    "action_size = brain.vector_action_space_size           # get the action size\n",
    "state_size = states.shape[1]                           # get the state size\n",
    "random_seed = 2\n",
    "agent = Agent(state_size,action_size,random_seed)      # init the agent\n",
    "\n",
    "with active_session():\n",
    "    scores,scores_mean= ddpg()\n",
    "\n",
    "    fig = plt.figure()\n",
    "    ax = fig.add_subplot(111)\n",
    "    plt.plot(np.arange(1, len(scores)+1), scores,label=\"score\")\n",
    "    plt.plot(np.arange(1, len(scores_mean)+1), scores_mean,label=\"avg score\")\n",
    "    plt.ylabel('Score')\n",
    "    plt.xlabel('Episode #')\n",
    "    plt.show()"
   ]
  },
  {
   "cell_type": "markdown",
   "metadata": {},
   "source": [
    "When finished, you can close the environment."
   ]
  },
  {
   "cell_type": "code",
   "execution_count": null,
   "metadata": {},
   "outputs": [],
   "source": [
    "env.close()"
   ]
  },
  {
   "cell_type": "markdown",
   "metadata": {},
   "source": [
    "### 4. It's Your Turn!\n",
    "\n",
    "Now it's your turn to train your own agent to solve the environment!  When training the environment, set `train_mode=True`, so that the line for resetting the environment looks like the following:\n",
    "```python\n",
    "env_info = env.reset(train_mode=True)[brain_name]\n",
    "```"
   ]
  },
  {
   "cell_type": "code",
   "execution_count": null,
   "metadata": {},
   "outputs": [],
   "source": []
  }
 ],
 "metadata": {
  "kernelspec": {
   "display_name": "Python 3",
   "language": "python",
   "name": "python3"
  },
  "language_info": {
   "codemirror_mode": {
    "name": "ipython",
    "version": 3
   },
   "file_extension": ".py",
   "mimetype": "text/x-python",
   "name": "python",
   "nbconvert_exporter": "python",
   "pygments_lexer": "ipython3",
   "version": "3.7.5"
  }
 },
 "nbformat": 4,
 "nbformat_minor": 2
}
